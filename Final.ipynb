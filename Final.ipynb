{
  "nbformat": 4,
  "nbformat_minor": 0,
  "metadata": {
    "colab": {
      "provenance": [],
      "authorship_tag": "ABX9TyNZ/xKzfcFI0sWM1jXqejKd",
      "include_colab_link": true
    },
    "kernelspec": {
      "name": "python3",
      "display_name": "Python 3"
    },
    "language_info": {
      "name": "python"
    }
  },
  "cells": [
    {
      "cell_type": "markdown",
      "metadata": {
        "id": "view-in-github",
        "colab_type": "text"
      },
      "source": [
        "<a href=\"https://colab.research.google.com/github/adarsh-one/Simple-python-project/blob/main/Final.ipynb\" target=\"_parent\"><img src=\"https://colab.research.google.com/assets/colab-badge.svg\" alt=\"Open In Colab\"/></a>"
      ]
    },
    {
      "cell_type": "markdown",
      "source": [
        "##1. Construct a class which converts hours and min time format to corresponding AM/PM time format"
      ],
      "metadata": {
        "id": "xrjqWh6ghpSf"
      }
    },
    {
      "cell_type": "code",
      "execution_count": null,
      "metadata": {
        "id": "cvWPQIo8hn9N"
      },
      "outputs": [],
      "source": [
        "## Time class\n",
        "## input = hours and minutes\n",
        "## output = Corresponding time in AM/PM  = fully completed\n",
        "\n",
        "class Time:\n",
        "  def __init__(self,hour,minute):\n",
        "    self.hour = hour\n",
        "    self.min = minute\n",
        "\n",
        "  def DisplayTime(self):\n",
        "\n",
        "    if self.min > 60:\n",
        "      while self.min > 60:\n",
        "        self.hour += 1\n",
        "        self.min -= 60\n",
        "\n",
        "    if self.hour > 12:\n",
        "      while self.hour > 12:\n",
        "        self.hour -= 12\n",
        "      print(self.hour,\":\",self.min,\"PM\")\n",
        "    elif self.hour == 0:\n",
        "      print(12,\":\",self.min,\"AM\")\n",
        "    else:\n",
        "      print(self.hour,\":\",self.min,\"AM\")\n",
        "\n",
        "  def DisplayRatio(self):\n",
        "    try:\n",
        "      print(round(self.min/self.hour,2))\n",
        "    except ZeroDivisionError:\n",
        "      print(\"Cannot be divided by zero\")"
      ]
    },
    {
      "cell_type": "code",
      "source": [
        "##Test case\n",
        "\n",
        "hour_min_list = [(23,45), (34,50), (12,34), (14,67),(19,20), (2,15), (0, 10)]\n",
        "\n",
        "for value in hour_min_list:\n",
        "\n",
        "  time = Time(value[0],value[1])\n",
        "  time.DisplayTime()\n",
        "  time.DisplayRatio()"
      ],
      "metadata": {
        "id": "ty5ScZNAh-Wb",
        "colab": {
          "base_uri": "https://localhost:8080/"
        },
        "outputId": "fa26c5e8-0711-4825-bd2a-20d509bcbac2"
      },
      "execution_count": null,
      "outputs": [
        {
          "output_type": "stream",
          "name": "stdout",
          "text": [
            "11 : 45 PM\n",
            "4.09\n",
            "10 : 50 PM\n",
            "5.0\n",
            "12 : 34 AM\n",
            "2.83\n",
            "3 : 7 PM\n",
            "2.33\n",
            "7 : 20 PM\n",
            "2.86\n",
            "2 : 15 AM\n",
            "7.5\n",
            "12 : 10 AM\n",
            "Cannot be divided by zero\n"
          ]
        }
      ]
    },
    {
      "cell_type": "markdown",
      "source": [
        "##2. Constructing a function to generate Fibonnaci sequence"
      ],
      "metadata": {
        "id": "_swMW-cOiGIu"
      }
    },
    {
      "cell_type": "code",
      "source": [
        "## Fib seq generator = completed\n",
        "\n",
        "def fib(t_seq):\n",
        "\n",
        "  prev = 0\n",
        "  next = 1\n",
        "  lst = []\n",
        "\n",
        "  if t_seq == 0:\n",
        "    print(\"No output\")\n",
        "    return\n",
        "  elif t_seq == 1:\n",
        "    lst.append(prev)\n",
        "    print(lst)\n",
        "    return\n",
        "  elif t_seq == 2:\n",
        "    lst.append(prev)\n",
        "    print(lst)\n",
        "    lst.append(next)\n",
        "    print(lst)\n",
        "    return\n",
        "  else:\n",
        "    lst.append(prev)\n",
        "    print(lst)\n",
        "    lst.append(next)\n",
        "    print(lst)\n",
        "    t_seq -= 2\n",
        "    while t_seq != 0:\n",
        "      temp = 0\n",
        "      temp = prev + next\n",
        "      prev = next\n",
        "      next = temp\n",
        "      lst.append(temp)\n",
        "      print(lst)\n",
        "      t_seq -= 1\n",
        "    return"
      ],
      "metadata": {
        "id": "AvTgGB4OiWTA"
      },
      "execution_count": null,
      "outputs": []
    },
    {
      "cell_type": "code",
      "source": [
        "##Test cases\n",
        "\n",
        "lst = list(range(17))\n",
        "\n",
        "for value in lst:\n",
        "  print(\"No.of fib seq = \" , value)\n",
        "  fib(value)"
      ],
      "metadata": {
        "colab": {
          "base_uri": "https://localhost:8080/"
        },
        "id": "OX9ouSETibvV",
        "outputId": "1034b1b0-c4a2-4a90-8361-5697039faaf3"
      },
      "execution_count": null,
      "outputs": [
        {
          "output_type": "stream",
          "name": "stdout",
          "text": [
            "No.of fib seq =  0\n",
            "No output\n",
            "No.of fib seq =  1\n",
            "[0]\n",
            "No.of fib seq =  2\n",
            "[0]\n",
            "[0, 1]\n",
            "No.of fib seq =  3\n",
            "[0]\n",
            "[0, 1]\n",
            "[0, 1, 1]\n",
            "No.of fib seq =  4\n",
            "[0]\n",
            "[0, 1]\n",
            "[0, 1, 1]\n",
            "[0, 1, 1, 2]\n",
            "No.of fib seq =  5\n",
            "[0]\n",
            "[0, 1]\n",
            "[0, 1, 1]\n",
            "[0, 1, 1, 2]\n",
            "[0, 1, 1, 2, 3]\n",
            "No.of fib seq =  6\n",
            "[0]\n",
            "[0, 1]\n",
            "[0, 1, 1]\n",
            "[0, 1, 1, 2]\n",
            "[0, 1, 1, 2, 3]\n",
            "[0, 1, 1, 2, 3, 5]\n",
            "No.of fib seq =  7\n",
            "[0]\n",
            "[0, 1]\n",
            "[0, 1, 1]\n",
            "[0, 1, 1, 2]\n",
            "[0, 1, 1, 2, 3]\n",
            "[0, 1, 1, 2, 3, 5]\n",
            "[0, 1, 1, 2, 3, 5, 8]\n",
            "No.of fib seq =  8\n",
            "[0]\n",
            "[0, 1]\n",
            "[0, 1, 1]\n",
            "[0, 1, 1, 2]\n",
            "[0, 1, 1, 2, 3]\n",
            "[0, 1, 1, 2, 3, 5]\n",
            "[0, 1, 1, 2, 3, 5, 8]\n",
            "[0, 1, 1, 2, 3, 5, 8, 13]\n",
            "No.of fib seq =  9\n",
            "[0]\n",
            "[0, 1]\n",
            "[0, 1, 1]\n",
            "[0, 1, 1, 2]\n",
            "[0, 1, 1, 2, 3]\n",
            "[0, 1, 1, 2, 3, 5]\n",
            "[0, 1, 1, 2, 3, 5, 8]\n",
            "[0, 1, 1, 2, 3, 5, 8, 13]\n",
            "[0, 1, 1, 2, 3, 5, 8, 13, 21]\n",
            "No.of fib seq =  10\n",
            "[0]\n",
            "[0, 1]\n",
            "[0, 1, 1]\n",
            "[0, 1, 1, 2]\n",
            "[0, 1, 1, 2, 3]\n",
            "[0, 1, 1, 2, 3, 5]\n",
            "[0, 1, 1, 2, 3, 5, 8]\n",
            "[0, 1, 1, 2, 3, 5, 8, 13]\n",
            "[0, 1, 1, 2, 3, 5, 8, 13, 21]\n",
            "[0, 1, 1, 2, 3, 5, 8, 13, 21, 34]\n",
            "No.of fib seq =  11\n",
            "[0]\n",
            "[0, 1]\n",
            "[0, 1, 1]\n",
            "[0, 1, 1, 2]\n",
            "[0, 1, 1, 2, 3]\n",
            "[0, 1, 1, 2, 3, 5]\n",
            "[0, 1, 1, 2, 3, 5, 8]\n",
            "[0, 1, 1, 2, 3, 5, 8, 13]\n",
            "[0, 1, 1, 2, 3, 5, 8, 13, 21]\n",
            "[0, 1, 1, 2, 3, 5, 8, 13, 21, 34]\n",
            "[0, 1, 1, 2, 3, 5, 8, 13, 21, 34, 55]\n",
            "No.of fib seq =  12\n",
            "[0]\n",
            "[0, 1]\n",
            "[0, 1, 1]\n",
            "[0, 1, 1, 2]\n",
            "[0, 1, 1, 2, 3]\n",
            "[0, 1, 1, 2, 3, 5]\n",
            "[0, 1, 1, 2, 3, 5, 8]\n",
            "[0, 1, 1, 2, 3, 5, 8, 13]\n",
            "[0, 1, 1, 2, 3, 5, 8, 13, 21]\n",
            "[0, 1, 1, 2, 3, 5, 8, 13, 21, 34]\n",
            "[0, 1, 1, 2, 3, 5, 8, 13, 21, 34, 55]\n",
            "[0, 1, 1, 2, 3, 5, 8, 13, 21, 34, 55, 89]\n",
            "No.of fib seq =  13\n",
            "[0]\n",
            "[0, 1]\n",
            "[0, 1, 1]\n",
            "[0, 1, 1, 2]\n",
            "[0, 1, 1, 2, 3]\n",
            "[0, 1, 1, 2, 3, 5]\n",
            "[0, 1, 1, 2, 3, 5, 8]\n",
            "[0, 1, 1, 2, 3, 5, 8, 13]\n",
            "[0, 1, 1, 2, 3, 5, 8, 13, 21]\n",
            "[0, 1, 1, 2, 3, 5, 8, 13, 21, 34]\n",
            "[0, 1, 1, 2, 3, 5, 8, 13, 21, 34, 55]\n",
            "[0, 1, 1, 2, 3, 5, 8, 13, 21, 34, 55, 89]\n",
            "[0, 1, 1, 2, 3, 5, 8, 13, 21, 34, 55, 89, 144]\n",
            "No.of fib seq =  14\n",
            "[0]\n",
            "[0, 1]\n",
            "[0, 1, 1]\n",
            "[0, 1, 1, 2]\n",
            "[0, 1, 1, 2, 3]\n",
            "[0, 1, 1, 2, 3, 5]\n",
            "[0, 1, 1, 2, 3, 5, 8]\n",
            "[0, 1, 1, 2, 3, 5, 8, 13]\n",
            "[0, 1, 1, 2, 3, 5, 8, 13, 21]\n",
            "[0, 1, 1, 2, 3, 5, 8, 13, 21, 34]\n",
            "[0, 1, 1, 2, 3, 5, 8, 13, 21, 34, 55]\n",
            "[0, 1, 1, 2, 3, 5, 8, 13, 21, 34, 55, 89]\n",
            "[0, 1, 1, 2, 3, 5, 8, 13, 21, 34, 55, 89, 144]\n",
            "[0, 1, 1, 2, 3, 5, 8, 13, 21, 34, 55, 89, 144, 233]\n",
            "No.of fib seq =  15\n",
            "[0]\n",
            "[0, 1]\n",
            "[0, 1, 1]\n",
            "[0, 1, 1, 2]\n",
            "[0, 1, 1, 2, 3]\n",
            "[0, 1, 1, 2, 3, 5]\n",
            "[0, 1, 1, 2, 3, 5, 8]\n",
            "[0, 1, 1, 2, 3, 5, 8, 13]\n",
            "[0, 1, 1, 2, 3, 5, 8, 13, 21]\n",
            "[0, 1, 1, 2, 3, 5, 8, 13, 21, 34]\n",
            "[0, 1, 1, 2, 3, 5, 8, 13, 21, 34, 55]\n",
            "[0, 1, 1, 2, 3, 5, 8, 13, 21, 34, 55, 89]\n",
            "[0, 1, 1, 2, 3, 5, 8, 13, 21, 34, 55, 89, 144]\n",
            "[0, 1, 1, 2, 3, 5, 8, 13, 21, 34, 55, 89, 144, 233]\n",
            "[0, 1, 1, 2, 3, 5, 8, 13, 21, 34, 55, 89, 144, 233, 377]\n",
            "No.of fib seq =  16\n",
            "[0]\n",
            "[0, 1]\n",
            "[0, 1, 1]\n",
            "[0, 1, 1, 2]\n",
            "[0, 1, 1, 2, 3]\n",
            "[0, 1, 1, 2, 3, 5]\n",
            "[0, 1, 1, 2, 3, 5, 8]\n",
            "[0, 1, 1, 2, 3, 5, 8, 13]\n",
            "[0, 1, 1, 2, 3, 5, 8, 13, 21]\n",
            "[0, 1, 1, 2, 3, 5, 8, 13, 21, 34]\n",
            "[0, 1, 1, 2, 3, 5, 8, 13, 21, 34, 55]\n",
            "[0, 1, 1, 2, 3, 5, 8, 13, 21, 34, 55, 89]\n",
            "[0, 1, 1, 2, 3, 5, 8, 13, 21, 34, 55, 89, 144]\n",
            "[0, 1, 1, 2, 3, 5, 8, 13, 21, 34, 55, 89, 144, 233]\n",
            "[0, 1, 1, 2, 3, 5, 8, 13, 21, 34, 55, 89, 144, 233, 377]\n",
            "[0, 1, 1, 2, 3, 5, 8, 13, 21, 34, 55, 89, 144, 233, 377, 610]\n"
          ]
        }
      ]
    },
    {
      "cell_type": "markdown",
      "source": [
        "##3. Guessing game till 7 tries and after every try need to give closeness of guess to random number"
      ],
      "metadata": {
        "id": "bqQBf57XmTps"
      }
    },
    {
      "cell_type": "code",
      "source": [
        "## Guessing game = completed\n",
        "import random\n",
        "\n",
        "rndm_num = random.randint(1 , 101)\n",
        "\n",
        "guess = int(input(\"Guess the number btw 1 to 100 in 7 tries : \"))\n",
        "tries = 6\n",
        "\n",
        "while tries != 0:\n",
        "  if guess > rndm_num and abs(guess - rndm_num) > 20:\n",
        "    print(\"The guess is too high\")\n",
        "    tries -= 1\n",
        "  elif guess > rndm_num and abs(guess - rndm_num) in range(10,20):\n",
        "    print(\"The guess is high by 10 to 20 diff but close\")\n",
        "    tries -= 1\n",
        "  elif guess > rndm_num and abs(guess - rndm_num) in range(5,10):\n",
        "    print(\"The guess is high by 5 to 10 diff but close\")\n",
        "    tries -= 1\n",
        "  elif guess > rndm_num and abs(guess - rndm_num) in range(1,5):\n",
        "    print(\"The guess is high by 1 to 5 diff but close\")\n",
        "    tries -= 1\n",
        "  elif guess < rndm_num and abs(guess - rndm_num) > 20:\n",
        "    print(\"The guess is too low\")\n",
        "    tries -= 1\n",
        "  elif guess < rndm_num and abs(guess - rndm_num) in range(10,20):\n",
        "    print(\"The guess is low by 10 to 20 diff but close\")\n",
        "    tries -= 1\n",
        "  elif guess < rndm_num and abs(guess - rndm_num) in range(5,10):\n",
        "    print(\"The guess is low by 5 to 10 diff but close\")\n",
        "    tries -= 1\n",
        "  elif guess < rndm_num and abs(guess - rndm_num) in range(1,5):\n",
        "    print(\"The guess is low by 1 to 5 diff but close\")\n",
        "    tries -= 1\n",
        "  elif guess == rndm_num:\n",
        "    print(\"You guessed correct\")\n",
        "    break\n",
        "\n",
        "  guess = int(input(\"Guess the number btw 1 to 100 in 7 tries : \"))\n",
        "\n",
        "if guess != rndm_num and tries == 0:\n",
        "  print(\"You guessed wrong: game over now\")\n",
        "  print(\"Number was = \",rndm_num)"
      ],
      "metadata": {
        "colab": {
          "base_uri": "https://localhost:8080/"
        },
        "id": "-kjmOddzka8k",
        "outputId": "331d613d-6c86-4994-d28a-826a399bffa2"
      },
      "execution_count": null,
      "outputs": [
        {
          "output_type": "stream",
          "name": "stdout",
          "text": [
            "Guess the number btw 1 to 100 in 7 tries : 60\n",
            "The guess is too low\n",
            "Guess the number btw 1 to 100 in 7 tries : 90\n",
            "The guess is high by 1 to 5 diff but close\n",
            "Guess the number btw 1 to 100 in 7 tries : 85\n",
            "The guess is low by 1 to 5 diff but close\n",
            "Guess the number btw 1 to 100 in 7 tries : 87\n",
            "The guess is low by 1 to 5 diff but close\n",
            "Guess the number btw 1 to 100 in 7 tries : 88\n",
            "You guessed correct\n"
          ]
        }
      ]
    },
    {
      "cell_type": "markdown",
      "source": [
        "##4. Movie list using dict\n",
        "##1. Create movies lst/dct dynamically\n",
        "##2. Remove watched movies\n",
        "##3. Then count the no.of movies in collection\n",
        "##4. Then reverse the order of collection"
      ],
      "metadata": {
        "id": "ZtAzHxI6ozih"
      }
    },
    {
      "cell_type": "code",
      "source": [
        "## Movie list = Here I am using dict intead of list\n",
        "\n",
        "## Creating movie dict dynamically\n",
        "mov_dict = {}\n",
        "\n",
        "lst_key = input('Input movies: ').split(',')\n",
        "lst_value = input(\"Input 'W/w' for watched else 'N/n' : \").split(\",\")\n",
        "for i in lst_value:\n",
        "  if i not in \"WNwn\":\n",
        "    raise ValueError(\"Pls enter only from W , N , w , n\")\n",
        "\n",
        "\n",
        "lst_key_value = list(zip(lst_key , lst_value))\n",
        "\n",
        "for value in lst_key_value:\n",
        "  mov_dict[value[0]] = value[1]\n",
        "\n",
        "print(mov_dict)\n",
        "\n",
        "## Deleting the entered movie in input from dict\n",
        "\n",
        "dele = input(\"To delete movies press Y/y else N : \")\n",
        "\n",
        "while dele in 'Yy':\n",
        "  del mov_dict[input(\"Enter movies you want to del : \")]\n",
        "  dele = input(\"To delete movies press Y else N : \")\n",
        "\n",
        "\n",
        "print(mov_dict)"
      ],
      "metadata": {
        "colab": {
          "base_uri": "https://localhost:8080/"
        },
        "id": "EK6JtisMp3m8",
        "outputId": "272f9aae-eb07-46f2-fea6-cf833f7d4779"
      },
      "execution_count": null,
      "outputs": [
        {
          "output_type": "stream",
          "name": "stdout",
          "text": [
            "Input movies: iron man,thor,thor 2,thor 3\n",
            "Input 'W/w' for watched else 'N/n' : w,w,n,n\n",
            "{'iron man': 'w', 'thor': 'w', 'thor 2': 'n', 'thor 3': 'n'}\n",
            "To delete movies press Y/y else N : y\n",
            "Enter movies you want to del : thor\n",
            "To delete movies press Y else N : n\n",
            "{'iron man': 'w', 'thor 2': 'n', 'thor 3': 'n'}\n"
          ]
        }
      ]
    },
    {
      "cell_type": "markdown",
      "source": [
        "##Reversing the above mov_dict"
      ],
      "metadata": {
        "id": "E3NabMXhsMhz"
      }
    },
    {
      "cell_type": "code",
      "source": [
        "## reversing mov_dict\n",
        "\n",
        "print(mov_dict)\n",
        "new_key_lst = list(mov_dict)\n",
        "new_value_lst = list(mov_dict.values())\n",
        "\n",
        "##print(new_key_lst)\n",
        "##print(new_value_lst)\n",
        "\n",
        "rev_key_lst = list(reversed(new_key_lst))\n",
        "rev_value_lst = list(reversed(new_value_lst))\n",
        "\n",
        "##print(rev_key_lst)\n",
        "##print(rev_value_lst)\n",
        "\n",
        "rev_t_lst = list(zip(rev_key_lst , rev_value_lst))\n",
        "\n",
        "##print(rev_t_lst)\n",
        "\n",
        "rev_dict = dict(rev_t_lst)\n",
        "\n",
        "print(rev_dict)"
      ],
      "metadata": {
        "colab": {
          "base_uri": "https://localhost:8080/",
          "height": 211
        },
        "id": "j9S9vC63qo5L",
        "outputId": "4ebf4d12-ba96-4ebc-eed6-2cc65e6a2c6c"
      },
      "execution_count": null,
      "outputs": [
        {
          "output_type": "error",
          "ename": "NameError",
          "evalue": "name 'mov_dict' is not defined",
          "traceback": [
            "\u001b[0;31m---------------------------------------------------------------------------\u001b[0m",
            "\u001b[0;31mNameError\u001b[0m                                 Traceback (most recent call last)",
            "\u001b[0;32m<ipython-input-1-99ee9a74a17a>\u001b[0m in \u001b[0;36m<cell line: 3>\u001b[0;34m()\u001b[0m\n\u001b[1;32m      1\u001b[0m \u001b[0;31m## reversing mov_dict\u001b[0m\u001b[0;34m\u001b[0m\u001b[0;34m\u001b[0m\u001b[0m\n\u001b[1;32m      2\u001b[0m \u001b[0;34m\u001b[0m\u001b[0m\n\u001b[0;32m----> 3\u001b[0;31m \u001b[0mprint\u001b[0m\u001b[0;34m(\u001b[0m\u001b[0mmov_dict\u001b[0m\u001b[0;34m)\u001b[0m\u001b[0;34m\u001b[0m\u001b[0;34m\u001b[0m\u001b[0m\n\u001b[0m\u001b[1;32m      4\u001b[0m \u001b[0mnew_key_lst\u001b[0m \u001b[0;34m=\u001b[0m \u001b[0mlist\u001b[0m\u001b[0;34m(\u001b[0m\u001b[0mmov_dict\u001b[0m\u001b[0;34m)\u001b[0m\u001b[0;34m\u001b[0m\u001b[0;34m\u001b[0m\u001b[0m\n\u001b[1;32m      5\u001b[0m \u001b[0mnew_value_lst\u001b[0m \u001b[0;34m=\u001b[0m \u001b[0mlist\u001b[0m\u001b[0;34m(\u001b[0m\u001b[0mmov_dict\u001b[0m\u001b[0;34m.\u001b[0m\u001b[0mvalues\u001b[0m\u001b[0;34m(\u001b[0m\u001b[0;34m)\u001b[0m\u001b[0;34m)\u001b[0m\u001b[0;34m\u001b[0m\u001b[0;34m\u001b[0m\u001b[0m\n",
            "\u001b[0;31mNameError\u001b[0m: name 'mov_dict' is not defined"
          ]
        }
      ]
    },
    {
      "cell_type": "markdown",
      "source": [
        "##5. Counting no.of times the given digit occurs in given range"
      ],
      "metadata": {
        "id": "ciNfeZCispGF"
      }
    },
    {
      "cell_type": "code",
      "source": [
        "## counting digits = completed\n",
        "\n",
        "'''\n",
        "enter range num1\n",
        "enter range num2\n",
        "enter digit to count\n",
        "output count of digit in given range\n",
        "\n",
        "'''\n",
        "## Getting all the inputs\n",
        "num1 = int(input(\"Enter range num1 : \"))\n",
        "num2 = int(input(\"Enter range num2 : \"))\n",
        "digit = int(input(\"Enter the digit to count : \"))\n",
        "\n",
        "## Logic\n",
        "count = 0\n",
        "for x in range(num1 , num2+1):\n",
        "\n",
        "  if str(digit) in str(x):\n",
        "    count += str(x).count(str(digit))\n",
        "    print(x , \" : \" , count)\n",
        "\n",
        "## Output\n",
        "print(\"Your final count is : \" , count)"
      ],
      "metadata": {
        "colab": {
          "base_uri": "https://localhost:8080/"
        },
        "id": "u_zRpNuas84t",
        "outputId": "f898ad83-5809-4b5b-fd9a-8b9713aa0d6e"
      },
      "execution_count": null,
      "outputs": [
        {
          "output_type": "stream",
          "name": "stdout",
          "text": [
            "Enter range num1 : 0\n",
            "Enter range num2 : 100\n",
            "Enter the digit to count : 0\n",
            "0  :  1\n",
            "10  :  2\n",
            "20  :  3\n",
            "30  :  4\n",
            "40  :  5\n",
            "50  :  6\n",
            "60  :  7\n",
            "70  :  8\n",
            "80  :  9\n",
            "90  :  10\n",
            "100  :  12\n",
            "Your final count is :  12\n"
          ]
        }
      ]
    },
    {
      "cell_type": "markdown",
      "source": [
        "##6. Calculator using oops"
      ],
      "metadata": {
        "id": "pbx4Smb1tzh5"
      }
    },
    {
      "cell_type": "code",
      "source": [
        "#calculator oops\n",
        "\n",
        "class Calculator:\n",
        "\n",
        "  def add(self , num1 , num2):\n",
        "    print(\"Addition = \" , num1+num2)\n",
        "\n",
        "  def sub(self , num1 , num2):\n",
        "    print(\"Subtraction = \" , num1 - num2)\n",
        "\n",
        "  def multiply(self , num1 , num2):\n",
        "    print(\"Product = \" , num1*num2)\n",
        "\n",
        "  def total_div(self , num1 , num2):\n",
        "\n",
        "    if num2 == 0:\n",
        "      raise ZeroDivisionError(\"Pls input num2 not equal to 0\")\n",
        "\n",
        "    elif type(num1) == str or type(num2) == str:\n",
        "      raise ValueError(\"Pls input numerical value\")\n",
        "\n",
        "    else:\n",
        "      print(\"Quotient1 = \" , round(num1/num2 , 2))\n",
        "      print(\"Quotient2 = \", num1//num2 )\n",
        "      print(\"Remainder = \", num1%num2)\n"
      ],
      "metadata": {
        "id": "lheYGMRGt6sB"
      },
      "execution_count": null,
      "outputs": []
    },
    {
      "cell_type": "code",
      "source": [
        "##Test cases\n",
        "\n",
        "lst = [(1,1),(12,11),(11,12),(1000,100),(100,1000),(0,1),(0,0),(1,0)]\n",
        "\n",
        "calc = Calculator()\n",
        "\n",
        "for value in lst:\n",
        "  print(\"Num1 = \", value[0] ,\",\", \"Num2 = \" , value[1],\"\\n\")\n",
        "  calc.add(value[0],value[1])\n",
        "  calc.sub(value[0],value[1])\n",
        "  calc.multiply(value[0],value[1])\n",
        "  calc.total_div(value[0],value[1])\n",
        "  print(\"\\n\")\n",
        "\n"
      ],
      "metadata": {
        "colab": {
          "base_uri": "https://localhost:8080/",
          "height": 1000
        },
        "id": "VMqBVXumuRhb",
        "outputId": "4a24816e-4bb5-4c1b-87b2-720285f201f3"
      },
      "execution_count": null,
      "outputs": [
        {
          "output_type": "stream",
          "name": "stdout",
          "text": [
            "Num1 =  1 , Num2 =  1 \n",
            "\n",
            "Addition =  2\n",
            "Subtraction =  0\n",
            "Product =  1\n",
            "Quotient1 =  1.0\n",
            "Quotient2 =  1\n",
            "Remainder =  0\n",
            "\n",
            "\n",
            "Num1 =  12 , Num2 =  11 \n",
            "\n",
            "Addition =  23\n",
            "Subtraction =  1\n",
            "Product =  132\n",
            "Quotient1 =  1.09\n",
            "Quotient2 =  1\n",
            "Remainder =  1\n",
            "\n",
            "\n",
            "Num1 =  11 , Num2 =  12 \n",
            "\n",
            "Addition =  23\n",
            "Subtraction =  -1\n",
            "Product =  132\n",
            "Quotient1 =  0.92\n",
            "Quotient2 =  0\n",
            "Remainder =  11\n",
            "\n",
            "\n",
            "Num1 =  1000 , Num2 =  100 \n",
            "\n",
            "Addition =  1100\n",
            "Subtraction =  900\n",
            "Product =  100000\n",
            "Quotient1 =  10.0\n",
            "Quotient2 =  10\n",
            "Remainder =  0\n",
            "\n",
            "\n",
            "Num1 =  100 , Num2 =  1000 \n",
            "\n",
            "Addition =  1100\n",
            "Subtraction =  -900\n",
            "Product =  100000\n",
            "Quotient1 =  0.1\n",
            "Quotient2 =  0\n",
            "Remainder =  100\n",
            "\n",
            "\n",
            "Num1 =  0 , Num2 =  1 \n",
            "\n",
            "Addition =  1\n",
            "Subtraction =  -1\n",
            "Product =  0\n",
            "Quotient1 =  0.0\n",
            "Quotient2 =  0\n",
            "Remainder =  0\n",
            "\n",
            "\n",
            "Num1 =  0 , Num2 =  0 \n",
            "\n",
            "Addition =  0\n",
            "Subtraction =  0\n",
            "Product =  0\n"
          ]
        },
        {
          "output_type": "error",
          "ename": "ZeroDivisionError",
          "evalue": "Pls input num2 not equal to 0",
          "traceback": [
            "\u001b[0;31m---------------------------------------------------------------------------\u001b[0m",
            "\u001b[0;31mZeroDivisionError\u001b[0m                         Traceback (most recent call last)",
            "\u001b[0;32m<ipython-input-40-31d19ef8c636>\u001b[0m in \u001b[0;36m<cell line: 7>\u001b[0;34m()\u001b[0m\n\u001b[1;32m     10\u001b[0m   \u001b[0mcalc\u001b[0m\u001b[0;34m.\u001b[0m\u001b[0msub\u001b[0m\u001b[0;34m(\u001b[0m\u001b[0mvalue\u001b[0m\u001b[0;34m[\u001b[0m\u001b[0;36m0\u001b[0m\u001b[0;34m]\u001b[0m\u001b[0;34m,\u001b[0m\u001b[0mvalue\u001b[0m\u001b[0;34m[\u001b[0m\u001b[0;36m1\u001b[0m\u001b[0;34m]\u001b[0m\u001b[0;34m)\u001b[0m\u001b[0;34m\u001b[0m\u001b[0;34m\u001b[0m\u001b[0m\n\u001b[1;32m     11\u001b[0m   \u001b[0mcalc\u001b[0m\u001b[0;34m.\u001b[0m\u001b[0mmultiply\u001b[0m\u001b[0;34m(\u001b[0m\u001b[0mvalue\u001b[0m\u001b[0;34m[\u001b[0m\u001b[0;36m0\u001b[0m\u001b[0;34m]\u001b[0m\u001b[0;34m,\u001b[0m\u001b[0mvalue\u001b[0m\u001b[0;34m[\u001b[0m\u001b[0;36m1\u001b[0m\u001b[0;34m]\u001b[0m\u001b[0;34m)\u001b[0m\u001b[0;34m\u001b[0m\u001b[0;34m\u001b[0m\u001b[0m\n\u001b[0;32m---> 12\u001b[0;31m   \u001b[0mcalc\u001b[0m\u001b[0;34m.\u001b[0m\u001b[0mtotal_div\u001b[0m\u001b[0;34m(\u001b[0m\u001b[0mvalue\u001b[0m\u001b[0;34m[\u001b[0m\u001b[0;36m0\u001b[0m\u001b[0;34m]\u001b[0m\u001b[0;34m,\u001b[0m\u001b[0mvalue\u001b[0m\u001b[0;34m[\u001b[0m\u001b[0;36m1\u001b[0m\u001b[0;34m]\u001b[0m\u001b[0;34m)\u001b[0m\u001b[0;34m\u001b[0m\u001b[0;34m\u001b[0m\u001b[0m\n\u001b[0m\u001b[1;32m     13\u001b[0m   \u001b[0mprint\u001b[0m\u001b[0;34m(\u001b[0m\u001b[0;34m\"\\n\"\u001b[0m\u001b[0;34m)\u001b[0m\u001b[0;34m\u001b[0m\u001b[0;34m\u001b[0m\u001b[0m\n\u001b[1;32m     14\u001b[0m \u001b[0;34m\u001b[0m\u001b[0m\n",
            "\u001b[0;32m<ipython-input-34-1e12274fd3c5>\u001b[0m in \u001b[0;36mtotal_div\u001b[0;34m(self, num1, num2)\u001b[0m\n\u001b[1;32m     15\u001b[0m \u001b[0;34m\u001b[0m\u001b[0m\n\u001b[1;32m     16\u001b[0m     \u001b[0;32mif\u001b[0m \u001b[0mnum2\u001b[0m \u001b[0;34m==\u001b[0m \u001b[0;36m0\u001b[0m\u001b[0;34m:\u001b[0m\u001b[0;34m\u001b[0m\u001b[0;34m\u001b[0m\u001b[0m\n\u001b[0;32m---> 17\u001b[0;31m       \u001b[0;32mraise\u001b[0m \u001b[0mZeroDivisionError\u001b[0m\u001b[0;34m(\u001b[0m\u001b[0;34m\"Pls input num2 not equal to 0\"\u001b[0m\u001b[0;34m)\u001b[0m\u001b[0;34m\u001b[0m\u001b[0;34m\u001b[0m\u001b[0m\n\u001b[0m\u001b[1;32m     18\u001b[0m \u001b[0;34m\u001b[0m\u001b[0m\n\u001b[1;32m     19\u001b[0m     \u001b[0;32melif\u001b[0m \u001b[0mtype\u001b[0m\u001b[0;34m(\u001b[0m\u001b[0mnum1\u001b[0m\u001b[0;34m)\u001b[0m \u001b[0;34m==\u001b[0m \u001b[0mstr\u001b[0m \u001b[0;32mor\u001b[0m \u001b[0mtype\u001b[0m\u001b[0;34m(\u001b[0m\u001b[0mnum2\u001b[0m\u001b[0;34m)\u001b[0m \u001b[0;34m==\u001b[0m \u001b[0mstr\u001b[0m\u001b[0;34m:\u001b[0m\u001b[0;34m\u001b[0m\u001b[0;34m\u001b[0m\u001b[0m\n",
            "\u001b[0;31mZeroDivisionError\u001b[0m: Pls input num2 not equal to 0"
          ]
        }
      ]
    },
    {
      "cell_type": "markdown",
      "source": [
        "##7 . Basketball score tracker"
      ],
      "metadata": {
        "id": "yZ5lCZ71xSf0"
      }
    },
    {
      "cell_type": "code",
      "source": [
        "## Basketball score tracker oops = completed\n",
        "\n",
        "class basketball_game:\n",
        "\n",
        "  def __init__ (self):\n",
        "\n",
        "    self.score1 = 0\n",
        "    self.score2 = 0\n",
        "\n",
        "  def update_(self , new_pts1 , new_pts2):\n",
        "\n",
        "    if type(new_pts1) == str or type(new_pts2) == str:\n",
        "      raise ValueError(\"Pls input int value\")\n",
        "\n",
        "    self.score1 = self.score1 + new_pts1\n",
        "    self.score2 = self.score2 + new_pts2\n",
        "\n",
        "\n",
        "  def print_(self):\n",
        "    print(\"Latest score for team1 : \",self.score1)\n",
        "    print(\"Latest score for team2 : \",self.score2)"
      ],
      "metadata": {
        "id": "fdn8-1DDxSGy"
      },
      "execution_count": null,
      "outputs": []
    },
    {
      "cell_type": "code",
      "source": [
        "## Test cases\n",
        "\n",
        "lst = [(0,0),(0,1),(1,1),(2,1),(2,2),('1','2')]\n",
        "\n",
        "basketball = basketball_game()\n",
        "\n",
        "for value in lst:\n",
        "  print(\"newpts for team 1 = \" , value[0])\n",
        "  print(\"newpts for team 2 = \" , value[1])\n",
        "  basketball.update_(value[0],value[1])\n",
        "  basketball.print_()\n",
        "  print(\"\\n\")"
      ],
      "metadata": {
        "colab": {
          "base_uri": "https://localhost:8080/",
          "height": 887
        },
        "id": "VTXtZH4Dxb1Y",
        "outputId": "70223c88-a1fb-4d4b-c909-9b4fd43a52df"
      },
      "execution_count": null,
      "outputs": [
        {
          "output_type": "stream",
          "name": "stdout",
          "text": [
            "newpts for team 1 =  0\n",
            "newpts for team 2 =  0\n",
            "Latest score for team1 :  0\n",
            "Latest score for team2 :  0\n",
            "\n",
            "\n",
            "newpts for team 1 =  0\n",
            "newpts for team 2 =  1\n",
            "Latest score for team1 :  0\n",
            "Latest score for team2 :  1\n",
            "\n",
            "\n",
            "newpts for team 1 =  1\n",
            "newpts for team 2 =  1\n",
            "Latest score for team1 :  1\n",
            "Latest score for team2 :  2\n",
            "\n",
            "\n",
            "newpts for team 1 =  2\n",
            "newpts for team 2 =  1\n",
            "Latest score for team1 :  3\n",
            "Latest score for team2 :  3\n",
            "\n",
            "\n",
            "newpts for team 1 =  2\n",
            "newpts for team 2 =  2\n",
            "Latest score for team1 :  5\n",
            "Latest score for team2 :  5\n",
            "\n",
            "\n",
            "newpts for team 1 =  1\n",
            "newpts for team 2 =  2\n"
          ]
        },
        {
          "output_type": "error",
          "ename": "ValueError",
          "evalue": "Pls input int value",
          "traceback": [
            "\u001b[0;31m---------------------------------------------------------------------------\u001b[0m",
            "\u001b[0;31mValueError\u001b[0m                                Traceback (most recent call last)",
            "\u001b[0;32m<ipython-input-48-47211cb8a8f5>\u001b[0m in \u001b[0;36m<cell line: 7>\u001b[0;34m()\u001b[0m\n\u001b[1;32m      8\u001b[0m   \u001b[0mprint\u001b[0m\u001b[0;34m(\u001b[0m\u001b[0;34m\"newpts for team 1 = \"\u001b[0m \u001b[0;34m,\u001b[0m \u001b[0mvalue\u001b[0m\u001b[0;34m[\u001b[0m\u001b[0;36m0\u001b[0m\u001b[0;34m]\u001b[0m\u001b[0;34m)\u001b[0m\u001b[0;34m\u001b[0m\u001b[0;34m\u001b[0m\u001b[0m\n\u001b[1;32m      9\u001b[0m   \u001b[0mprint\u001b[0m\u001b[0;34m(\u001b[0m\u001b[0;34m\"newpts for team 2 = \"\u001b[0m \u001b[0;34m,\u001b[0m \u001b[0mvalue\u001b[0m\u001b[0;34m[\u001b[0m\u001b[0;36m1\u001b[0m\u001b[0;34m]\u001b[0m\u001b[0;34m)\u001b[0m\u001b[0;34m\u001b[0m\u001b[0;34m\u001b[0m\u001b[0m\n\u001b[0;32m---> 10\u001b[0;31m   \u001b[0mbasketball\u001b[0m\u001b[0;34m.\u001b[0m\u001b[0mupdate_\u001b[0m\u001b[0;34m(\u001b[0m\u001b[0mvalue\u001b[0m\u001b[0;34m[\u001b[0m\u001b[0;36m0\u001b[0m\u001b[0;34m]\u001b[0m\u001b[0;34m,\u001b[0m\u001b[0mvalue\u001b[0m\u001b[0;34m[\u001b[0m\u001b[0;36m1\u001b[0m\u001b[0;34m]\u001b[0m\u001b[0;34m)\u001b[0m\u001b[0;34m\u001b[0m\u001b[0;34m\u001b[0m\u001b[0m\n\u001b[0m\u001b[1;32m     11\u001b[0m   \u001b[0mbasketball\u001b[0m\u001b[0;34m.\u001b[0m\u001b[0mprint_\u001b[0m\u001b[0;34m(\u001b[0m\u001b[0;34m)\u001b[0m\u001b[0;34m\u001b[0m\u001b[0;34m\u001b[0m\u001b[0m\n\u001b[1;32m     12\u001b[0m   \u001b[0mprint\u001b[0m\u001b[0;34m(\u001b[0m\u001b[0;34m\"\\n\"\u001b[0m\u001b[0;34m)\u001b[0m\u001b[0;34m\u001b[0m\u001b[0;34m\u001b[0m\u001b[0m\n",
            "\u001b[0;32m<ipython-input-46-c78a15c7602d>\u001b[0m in \u001b[0;36mupdate_\u001b[0;34m(self, new_pts1, new_pts2)\u001b[0m\n\u001b[1;32m     11\u001b[0m \u001b[0;34m\u001b[0m\u001b[0m\n\u001b[1;32m     12\u001b[0m     \u001b[0;32mif\u001b[0m \u001b[0mtype\u001b[0m\u001b[0;34m(\u001b[0m\u001b[0mnew_pts1\u001b[0m\u001b[0;34m)\u001b[0m \u001b[0;34m==\u001b[0m \u001b[0mstr\u001b[0m \u001b[0;32mor\u001b[0m \u001b[0mtype\u001b[0m\u001b[0;34m(\u001b[0m\u001b[0mnew_pts2\u001b[0m\u001b[0;34m)\u001b[0m \u001b[0;34m==\u001b[0m \u001b[0mstr\u001b[0m\u001b[0;34m:\u001b[0m\u001b[0;34m\u001b[0m\u001b[0;34m\u001b[0m\u001b[0m\n\u001b[0;32m---> 13\u001b[0;31m       \u001b[0;32mraise\u001b[0m \u001b[0mValueError\u001b[0m\u001b[0;34m(\u001b[0m\u001b[0;34m\"Pls input int value\"\u001b[0m\u001b[0;34m)\u001b[0m\u001b[0;34m\u001b[0m\u001b[0;34m\u001b[0m\u001b[0m\n\u001b[0m\u001b[1;32m     14\u001b[0m \u001b[0;34m\u001b[0m\u001b[0m\n\u001b[1;32m     15\u001b[0m     \u001b[0mself\u001b[0m\u001b[0;34m.\u001b[0m\u001b[0mscore1\u001b[0m \u001b[0;34m=\u001b[0m \u001b[0mself\u001b[0m\u001b[0;34m.\u001b[0m\u001b[0mscore1\u001b[0m \u001b[0;34m+\u001b[0m \u001b[0mnew_pts1\u001b[0m\u001b[0;34m\u001b[0m\u001b[0;34m\u001b[0m\u001b[0m\n",
            "\u001b[0;31mValueError\u001b[0m: Pls input int value"
          ]
        }
      ]
    },
    {
      "cell_type": "markdown",
      "source": [
        "##8 . Dice rolling"
      ],
      "metadata": {
        "id": "1LfDhvUjzUnU"
      }
    },
    {
      "cell_type": "code",
      "source": [
        "## Rolling a dice = completed\n",
        "\n",
        "import random\n",
        "off = 0\n",
        "while off != 1:\n",
        " dice = random.randint(1 , 6)\n",
        " print(dice)\n",
        " off = int(input(\"To roll the dice more press 0 else 1 : \"))"
      ],
      "metadata": {
        "colab": {
          "base_uri": "https://localhost:8080/"
        },
        "id": "Vn01Z1BqzYqV",
        "outputId": "5f612a37-b705-4110-8650-96a53e7548b3"
      },
      "execution_count": null,
      "outputs": [
        {
          "name": "stdout",
          "output_type": "stream",
          "text": [
            "4\n",
            "To roll the dice more press 0 else 1 : 0\n",
            "6\n",
            "To roll the dice more press 0 else 1 : 0\n",
            "5\n",
            "To roll the dice more press 0 else 1 : 0\n",
            "6\n",
            "To roll the dice more press 0 else 1 : 0\n",
            "4\n",
            "To roll the dice more press 0 else 1 : 0\n",
            "2\n",
            "To roll the dice more press 0 else 1 : 0\n",
            "6\n",
            "To roll the dice more press 0 else 1 : 0\n",
            "1\n",
            "To roll the dice more press 0 else 1 : 0\n",
            "4\n",
            "To roll the dice more press 0 else 1 : 1\n"
          ]
        }
      ]
    },
    {
      "cell_type": "markdown",
      "source": [
        "##9. Add sq of odd numbers in given list using lambda,filter,map,zip"
      ],
      "metadata": {
        "id": "j6My7hCkz5aP"
      }
    },
    {
      "cell_type": "code",
      "source": [
        "## sum of sq of odd nums in lst = Giving error in this notebook but not in other notebook\n",
        "\n",
        "'''\n",
        "lst = [1 , 2 , 3 , 4]\n",
        "sum = 0\n",
        "for x in lst:\n",
        "  sum += x**2\n",
        "  print(sum)\n",
        "'''\n",
        "try:\n",
        " lst = list(eval(input(\"Input nums for sum of sq : \")))\n",
        " new_lst = list(filter(lambda x : x%2 != 0 , lst))\n",
        " total = sum(list(map(lambda value : value**2 , new_lst)))\n",
        " print(total)\n",
        "except TypeError:\n",
        "  print(\"If you want to input single number, pls input in this format = 123, i.e, num,\")"
      ],
      "metadata": {
        "colab": {
          "base_uri": "https://localhost:8080/"
        },
        "id": "YkwLYzGtz4d6",
        "outputId": "9a2abe1a-0c13-4e41-9dd2-44372ec88c90"
      },
      "execution_count": null,
      "outputs": [
        {
          "output_type": "stream",
          "name": "stdout",
          "text": [
            "Input nums for sum of sq : 1\n",
            "If you want to input single number, pls input in this format = 123, i.e, num,\n"
          ]
        }
      ]
    }
  ]
}